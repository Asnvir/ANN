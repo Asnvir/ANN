{
  "nbformat": 4,
  "nbformat_minor": 0,
  "metadata": {
    "colab": {
      "provenance": [],
      "collapsed_sections": [
        "QkWgxK19nNS3",
        "zUBB9xvSH5qn",
        "t_G2p3F-dRE1",
        "LmTeiQGfmHFG",
        "3T47flKvmJ3a",
        "VQ-04ymImNAH",
        "0PsNYyutmPtd",
        "mG3oYSIrmSWn",
        "XzZXQJQXmVcr",
        "P9WsR_vljif3",
        "xJpmdboVjxWe",
        "LLSEP4rmj6oZ",
        "3i4aGbU4kIXR"
      ],
      "authorship_tag": "ABX9TyOJ/TZQc8nxOfiOutXmfe/4",
      "include_colab_link": true
    },
    "kernelspec": {
      "name": "python3",
      "display_name": "Python 3"
    },
    "language_info": {
      "name": "python"
    },
    "gpuClass": "standard"
  },
  "cells": [
    {
      "cell_type": "markdown",
      "metadata": {
        "id": "view-in-github",
        "colab_type": "text"
      },
      "source": [
        "<a href=\"https://colab.research.google.com/github/Asnvir/ANN/blob/main/ANN_HW_2_Artur_Kopytin.ipynb\" target=\"_parent\"><img src=\"https://colab.research.google.com/assets/colab-badge.svg\" alt=\"Open In Colab\"/></a>"
      ]
    },
    {
      "cell_type": "markdown",
      "source": [
        "#Import packages\n"
      ],
      "metadata": {
        "id": "h64LdGehVjXT"
      }
    },
    {
      "cell_type": "code",
      "execution_count": 49,
      "metadata": {
        "id": "lrJxhiDaRndZ"
      },
      "outputs": [],
      "source": [
        "import torch \n",
        "from torch import nn\n",
        "import numpy as np\n"
      ]
    },
    {
      "cell_type": "markdown",
      "source": [
        "#Device"
      ],
      "metadata": {
        "id": "QkWgxK19nNS3"
      }
    },
    {
      "cell_type": "code",
      "source": [
        "device = torch.device(\"cuda:0\" if torch.cuda.is_available() else \"cpu\")\n",
        "print(f\"Device - {device}\")"
      ],
      "metadata": {
        "colab": {
          "base_uri": "https://localhost:8080/"
        },
        "id": "kRzE-QkcnQXX",
        "outputId": "5a67d72f-008d-4ba9-d260-32126b9d19dc"
      },
      "execution_count": 50,
      "outputs": [
        {
          "output_type": "stream",
          "name": "stdout",
          "text": [
            "Device - cpu\n"
          ]
        }
      ]
    },
    {
      "cell_type": "markdown",
      "source": [
        "#Linear class declaration"
      ],
      "metadata": {
        "id": "O-jQnBbmoBCr"
      }
    },
    {
      "cell_type": "code",
      "source": [
        "class Linear(torch.nn.Module):\n",
        "  def __init__(self, in_features: int, out_features: int, bias: bool = True, device=None, dtype=None) -> None:\n",
        "    factory_kwargs = {'device': device, 'dtype': dtype}\n",
        "    super(Linear, self).__init__()\n",
        "    self.in_features = in_features\n",
        "    self.out_features = out_features\n",
        "    self.weight = nn.Parameter(torch.empty((out_features, in_features), **factory_kwargs))\n",
        "    if bias:\n",
        "        self.bias = nn.Parameter(torch.empty(out_features, **factory_kwargs))\n",
        "    else:\n",
        "        self.register_parameter('bias', None)\n",
        "    self.reset_parameters()\n",
        "\n",
        "  def reset_parameters(self) -> None:\n",
        "    self.weight = nn.Parameter(torch.rand([self.out_features, self.in_features]))\n",
        "    if self.bias is not None:\n",
        "      self.bias = nn.Parameter(torch.rand([self.out_features]))\n",
        "\n",
        "  def forward(self, input: torch.Tensor) -> torch.Tensor:\n",
        "    return torch.matmul(input, torch.transpose(self.weight,0,1)) + self.bias\n",
        "\n",
        "  def extra_repr(self) -> str:\n",
        "    return 'in_features={}, out_features={}, bias={}'.format(self.in_features, self.out_features, self.bias is not None)"
      ],
      "metadata": {
        "id": "P6VkpjY4oB14"
      },
      "execution_count": 51,
      "outputs": []
    },
    {
      "cell_type": "markdown",
      "source": [
        "#Init variables"
      ],
      "metadata": {
        "id": "QDcyVA8tp_an"
      }
    },
    {
      "cell_type": "code",
      "source": [
        "general_mean_epocs =[]\n",
        "general_std_epocs =[]\n",
        "\n",
        "dim = 2\n",
        "out_dim = 1\n",
        "l_rate = 0.01\n",
        "\n",
        "\n",
        "x_train = torch.tensor([[0, 0], [0, 1], [1, 0], [1, 1]], requires_grad=True, dtype=torch.float32)\n",
        "x_addition = torch.tensor([[1, 0.1], [1, 0.9], [0.9, 0.9], [0.1, 0.9]], requires_grad=True, dtype=torch.float32)\n",
        "x_validation = torch.cat((x_train, x_addition))\n",
        "print(f\"x_train: \\n{x_train}\\n--------------------------------------------------------\\n\")\n",
        "print(f\"x_validation: \\n{x_validation}\\n--------------------------------------------------------\\n\")\n",
        "\n",
        "t_train = torch.tensor([[0], [1], [1], [0]], dtype=torch.float32)\n",
        "t_addition = torch.tensor([[1], [0], [0], [1]], dtype=torch.float32)\n",
        "t_validation = torch.cat((t_train,t_addition))\n",
        "print(f\"t_train: \\n{t_train}\\n--------------------------------------------------------\\n\")\n",
        "print(f\"t_validation: \\n{t_validation}\\n--------------------------------------------------------\\n\")\n",
        "\n"
      ],
      "metadata": {
        "colab": {
          "base_uri": "https://localhost:8080/"
        },
        "id": "R_FO019uqDRi",
        "outputId": "55114485-a8ec-491b-eba9-98342f883fa0"
      },
      "execution_count": 52,
      "outputs": [
        {
          "output_type": "stream",
          "name": "stdout",
          "text": [
            "x_train: \n",
            "tensor([[0., 0.],\n",
            "        [0., 1.],\n",
            "        [1., 0.],\n",
            "        [1., 1.]], requires_grad=True)\n",
            "--------------------------------------------------------\n",
            "\n",
            "x_validation: \n",
            "tensor([[0.0000, 0.0000],\n",
            "        [0.0000, 1.0000],\n",
            "        [1.0000, 0.0000],\n",
            "        [1.0000, 1.0000],\n",
            "        [1.0000, 0.1000],\n",
            "        [1.0000, 0.9000],\n",
            "        [0.9000, 0.9000],\n",
            "        [0.1000, 0.9000]], grad_fn=<CatBackward0>)\n",
            "--------------------------------------------------------\n",
            "\n",
            "t_train: \n",
            "tensor([[0.],\n",
            "        [1.],\n",
            "        [1.],\n",
            "        [0.]])\n",
            "--------------------------------------------------------\n",
            "\n",
            "t_validation: \n",
            "tensor([[0.],\n",
            "        [1.],\n",
            "        [1.],\n",
            "        [0.],\n",
            "        [1.],\n",
            "        [0.],\n",
            "        [0.],\n",
            "        [1.]])\n",
            "--------------------------------------------------------\n",
            "\n"
          ]
        }
      ]
    },
    {
      "cell_type": "markdown",
      "source": [
        "#Network class (XOR) declaration"
      ],
      "metadata": {
        "id": "ZSMr2rcjpvxZ"
      }
    },
    {
      "cell_type": "code",
      "source": [
        "class XOR_Net_Model(nn.Module):\n",
        "  def __init__(self,num_hidden = 4, bypass = True):\n",
        "    super().__init__()\n",
        "    self.bypass = bypass\n",
        "    self.hidden = Linear(dim, num_hidden)\n",
        "    if self.bypass:\n",
        "      self.output = Linear(num_hidden + dim, out_dim)\n",
        "    else:\n",
        "      self.output = Linear(num_hidden, out_dim)\n",
        "    self.BTU = BTU(0.5)\n",
        "\n",
        "  def forward(self, input):\n",
        "    z1 = self.hidden(input)\n",
        "    y1 = self.BTU(z1)\n",
        "    if( torch.equal(input,x_train)):\n",
        "      self.y1 = y1\n",
        "    \n",
        "    if self.bypass:\n",
        "      y1_concat = torch.cat((input, y1), 1)\n",
        "      z2 = self.output(y1_concat)\n",
        "    else:\n",
        "      z2 = self.output(y1)\n",
        "    return self.BTU(z2)"
      ],
      "metadata": {
        "id": "-Alo8MMtp3Tf"
      },
      "execution_count": 53,
      "outputs": []
    },
    {
      "cell_type": "markdown",
      "source": [
        "#BTU func declaration\n"
      ],
      "metadata": {
        "id": "2YPAjzAbos-_"
      }
    },
    {
      "cell_type": "code",
      "source": [
        "class BTU(torch.nn.Module):\n",
        "  def __init__(self, T=0.2, inplace: bool = False):\n",
        "      super(BTU, self).__init__()\n",
        "      self.T = T\n",
        "\n",
        "  def forward(self, input: torch.Tensor) -> torch.Tensor:\n",
        "      return 1 / (1 + torch.exp(-input/self.T))"
      ],
      "metadata": {
        "id": "tkHE_lTyowlo"
      },
      "execution_count": 54,
      "outputs": []
    },
    {
      "cell_type": "markdown",
      "source": [
        "# Cross Entropy loss function declaration"
      ],
      "metadata": {
        "id": "oInwi6BtpgNn"
      }
    },
    {
      "cell_type": "code",
      "source": [
        "def Loss(out, t_train):\n",
        "  return -torch.sum(t_train * torch.log(out) + (1.0 - t_train) * torch.log(1.0 - out))  # Cross Entropy loss function"
      ],
      "metadata": {
        "id": "BIW1FJUQpd-X"
      },
      "execution_count": 55,
      "outputs": []
    },
    {
      "cell_type": "markdown",
      "source": [
        "#Train func declaration"
      ],
      "metadata": {
        "id": "LxcZtf1bqUMw"
      }
    },
    {
      "cell_type": "code",
      "source": [
        "def train(model, x_train, t_train, optimizer):\n",
        "  y_pred = model(x_train)\n",
        "  loss = Loss(y_pred, t_train)\n",
        "\n",
        "  # zero gradients berfore running the backward pass\n",
        "  optimizer.zero_grad()\n",
        "\n",
        "  # backward pass to compute the gradient of loss\n",
        "  # backprop + accumulate \n",
        "  loss.backward()\n",
        "\n",
        "  # update params\n",
        "  optimizer.step()\n",
        "  return loss"
      ],
      "metadata": {
        "id": "2aRRWTZpqWvO"
      },
      "execution_count": 56,
      "outputs": []
    },
    {
      "cell_type": "markdown",
      "source": [
        "#Test func declaration"
      ],
      "metadata": {
        "id": "xutx7LlvqeO3"
      }
    },
    {
      "cell_type": "code",
      "source": [
        "# define test step operation:\n",
        "def test(model, x_test, t_test):\n",
        "  loss = Loss(model(x_test), t_test)\n",
        "  return loss"
      ],
      "metadata": {
        "id": "lGF7dFtcqhjn"
      },
      "execution_count": 57,
      "outputs": []
    },
    {
      "cell_type": "markdown",
      "source": [],
      "metadata": {
        "id": "3Sbxz2rMgMsH"
      }
    },
    {
      "cell_type": "markdown",
      "source": [
        "#Executing train on XOR model"
      ],
      "metadata": {
        "id": "u7TvMRX9rSxS"
      }
    },
    {
      "cell_type": "code",
      "source": [
        "def triesFunc(general_mean_epocs, general_std_epocs, l_rate,num_hidden, bypass):\n",
        "  \n",
        "  validation_boundary = 0.2\n",
        "  max_validation_loss_improve = 0.0001\n",
        "  max_num_good_epocs = 10\n",
        "  max_num_epocs = 40000\n",
        "  num_epocs_to_run = 40001\n",
        "  num_of_good_tries = 10\n",
        "\n",
        "\n",
        "  counter_of_good_tries = 0\n",
        "  counter_of_bad_tries = 0\n",
        "\n",
        "  arr_num_epocs = []\n",
        "  arr_num_val_loss = []\n",
        "  arr_num_train_loss = []\n",
        "\n",
        "\n",
        "  \n",
        "  while(counter_of_good_tries != num_of_good_tries ):\n",
        "\n",
        "    model = XOR_Net_Model(num_hidden,bypass)\n",
        "    optimizer = torch.optim.SGD(model.parameters(), lr=l_rate)\n",
        "    counter_good_epocs = 0\n",
        "    prev_validation_loss = None\n",
        "    y1 = None\n",
        "\n",
        "    for i in range(num_epocs_to_run):\n",
        "\n",
        "      if(i == 0):\n",
        "        train_loss = train(model, x_train, t_train, optimizer)\n",
        "        validation_loss = test(model, x_validation, t_validation)\n",
        "        prev_validation_loss = validation_loss\n",
        "      else:\n",
        "        train_loss = train(model, x_train, t_train, optimizer)\n",
        "        validation_loss = test(model, x_validation, t_validation)\n",
        "        difference_losses = prev_validation_loss - validation_loss\n",
        "        \n",
        "\n",
        "        if(difference_losses <= max_validation_loss_improve and validation_loss < validation_boundary):\n",
        "          counter_good_epocs += 1\n",
        "        else:\n",
        "          counter_good_epocs = 0\n",
        "        \n",
        "  \n",
        "        if counter_good_epocs == max_num_good_epocs:\n",
        "          \n",
        "          counter_of_good_tries += 1\n",
        "        \n",
        "          arr_num_epocs.append(i+1)\n",
        "          arr_num_val_loss.append(validation_loss)\n",
        "          arr_num_train_loss.append(train_loss)\n",
        "          \n",
        "          break\n",
        "        \n",
        "        elif i == max_num_epocs:          \n",
        "          counter_of_bad_tries += 1\n",
        "          \n",
        "\n",
        "        prev_validation_loss = validation_loss\n",
        "        y1 = model.y1\n",
        "\n",
        "    if(bypass == True and num_hidden == 1):\n",
        "      print(f\"Input:\")\n",
        "      print(f\"{x_train}\\n\")\n",
        "      print(f\"Y hidden:\")\n",
        "      print(f\"{y1}\\n\")\n",
        "      print(f\"------------------------------------\")\n",
        "        \n",
        "\n",
        "  mean_epocs = torch.mean(torch.FloatTensor(arr_num_epocs))\n",
        "  std_epocs = torch.std(torch.FloatTensor(arr_num_epocs)) \n",
        "\n",
        "  mean_validation_loss = torch.mean(torch.FloatTensor(arr_num_val_loss))\n",
        "  std_validation_loss = torch.std(torch.FloatTensor(arr_num_val_loss))\n",
        "\n",
        "  mean_train_loss = torch.mean(torch.FloatTensor(arr_num_train_loss))\n",
        "  std_train_loss = torch.std(torch.FloatTensor(arr_num_train_loss)) \n",
        "\n",
        "  general_mean_epocs.append(mean_epocs)\n",
        "  general_std_epocs.append(std_epocs)\n",
        "\n",
        "  print(f\"Mean of epocs for this experement = {mean_epocs} \\nStandard deviation of epocs for this experement= {std_epocs}\\n\")\n",
        "  print(f\"Mean of validation loss for this experement= {mean_validation_loss} \\nStandard deviation of validation loss for this experement= {std_validation_loss}\\n\")\n",
        "  print(f\"Mean of train  loss for this experement= {mean_train_loss} \\nStandard deviation of train loss for this experement= {std_train_loss}\\n\")\n",
        "  print(f\"Bad training count for this experement= {counter_of_bad_tries}\\n\")\n"
      ],
      "metadata": {
        "id": "lMz5RE6preMX"
      },
      "execution_count": 58,
      "outputs": []
    },
    {
      "cell_type": "markdown",
      "source": [
        "#Test 1 \n",
        "#Learning rate = 0.01 , Num hidden = 2, Bypass = True"
      ],
      "metadata": {
        "id": "zUBB9xvSH5qn"
      }
    },
    {
      "cell_type": "code",
      "source": [
        "\n",
        "triesFunc(general_mean_epocs, general_std_epocs,l_rate=0.01,num_hidden = 2, bypass=True)\n"
      ],
      "metadata": {
        "colab": {
          "base_uri": "https://localhost:8080/"
        },
        "id": "t1Dbn5uUH9ur",
        "outputId": "0d23e349-80c1-4822-f5e8-841b24f0dc20"
      },
      "execution_count": 59,
      "outputs": [
        {
          "output_type": "stream",
          "name": "stdout",
          "text": [
            "Mean of epocs for this experement = 11368.099609375 \n",
            "Standard deviation of epocs for this experement= 3373.9912109375\n",
            "\n",
            "Mean of validation loss for this experement= 0.19979943335056305 \n",
            "Standard deviation of validation loss for this experement= 7.855919102439657e-05\n",
            "\n",
            "Mean of train  loss for this experement= 0.050501205027103424 \n",
            "Standard deviation of train loss for this experement= 0.006757630500942469\n",
            "\n",
            "Bad training count for this experement= 0\n",
            "\n"
          ]
        }
      ]
    },
    {
      "cell_type": "markdown",
      "source": [
        "#Test 2\n",
        "#Learning rate = 0.01 , Num hidden = 2, Bypass = False"
      ],
      "metadata": {
        "id": "t_G2p3F-dRE1"
      }
    },
    {
      "cell_type": "code",
      "source": [
        "triesFunc(general_mean_epocs, general_std_epocs,l_rate=0.01,num_hidden = 2, bypass=False)\n"
      ],
      "metadata": {
        "id": "brvP888ldVvJ"
      },
      "execution_count": null,
      "outputs": []
    },
    {
      "cell_type": "markdown",
      "source": [
        "#Test 3\n",
        "#Learning rate = 0.01 , Num hidden = 4, Bypass = True"
      ],
      "metadata": {
        "id": "LmTeiQGfmHFG"
      }
    },
    {
      "cell_type": "code",
      "source": [
        "triesFunc(general_mean_epocs, general_std_epocs,l_rate=0.01,num_hidden = 4, bypass=True)\n"
      ],
      "metadata": {
        "id": "z-6VpimlmIdL"
      },
      "execution_count": null,
      "outputs": []
    },
    {
      "cell_type": "markdown",
      "source": [
        "#Test 4\n",
        "#Learning rate = 0.01 , Num hidden = 4, Bypass = False"
      ],
      "metadata": {
        "id": "3T47flKvmJ3a"
      }
    },
    {
      "cell_type": "code",
      "source": [
        "triesFunc(general_mean_epocs, general_std_epocs,l_rate=0.01,num_hidden = 4, bypass=False)\n"
      ],
      "metadata": {
        "id": "3Bg9CfV_mLbc"
      },
      "execution_count": null,
      "outputs": []
    },
    {
      "cell_type": "markdown",
      "source": [
        "#Test 5 \n",
        "#Learning rate = 0.1 , Num hidden = 2, Bypass = True"
      ],
      "metadata": {
        "id": "VQ-04ymImNAH"
      }
    },
    {
      "cell_type": "code",
      "source": [
        "triesFunc(general_mean_epocs, general_std_epocs,l_rate=0.1,num_hidden = 2, bypass=True)\n"
      ],
      "metadata": {
        "id": "IZn9t3MYmOQM"
      },
      "execution_count": null,
      "outputs": []
    },
    {
      "cell_type": "markdown",
      "source": [
        "#Test 6\n",
        "#Learning rate = 0.1 , Num hidden = 2, Bypass = False"
      ],
      "metadata": {
        "id": "0PsNYyutmPtd"
      }
    },
    {
      "cell_type": "code",
      "source": [
        "triesFunc(general_mean_epocs, general_std_epocs,l_rate=0.1,num_hidden = 2, bypass=False)\n"
      ],
      "metadata": {
        "id": "Q4URkSENmQ9G"
      },
      "execution_count": null,
      "outputs": []
    },
    {
      "cell_type": "markdown",
      "source": [
        "#Test 7\n",
        "#Learning rate = 0.1 , Num hidden = 4, Bypass = True"
      ],
      "metadata": {
        "id": "mG3oYSIrmSWn"
      }
    },
    {
      "cell_type": "code",
      "source": [
        "triesFunc(general_mean_epocs, general_std_epocs,l_rate=0.1,num_hidden = 4, bypass=True)\n"
      ],
      "metadata": {
        "id": "mjNDtqBlmT1I"
      },
      "execution_count": null,
      "outputs": []
    },
    {
      "cell_type": "markdown",
      "source": [
        "#Test 8\n",
        "#Learning rate = 0.1 , Num hidden = 4, Bypass = False"
      ],
      "metadata": {
        "id": "XzZXQJQXmVcr"
      }
    },
    {
      "cell_type": "code",
      "source": [
        "triesFunc(general_mean_epocs, general_std_epocs,l_rate=0.1,num_hidden = 4, bypass=False)\n"
      ],
      "metadata": {
        "id": "GEPX8oeDmW6X"
      },
      "execution_count": null,
      "outputs": []
    },
    {
      "cell_type": "markdown",
      "source": [
        "#Test 9\n",
        "#Learning rate = 0.1 , Num hidden = 1, Bypass = True"
      ],
      "metadata": {
        "id": "VH72oHWsmdKX"
      }
    },
    {
      "cell_type": "code",
      "source": [
        "triesFunc(general_mean_epocs, general_std_epocs,l_rate=0.1,num_hidden = 1, bypass=True)\n"
      ],
      "metadata": {
        "id": "lmp90KBfmh2b"
      },
      "execution_count": null,
      "outputs": []
    },
    {
      "cell_type": "markdown",
      "source": [
        "#Test 10 - Rshut #1\n",
        "#Learning rate = 0.1 , Num hidden = 3, Bypass = True"
      ],
      "metadata": {
        "id": "P9WsR_vljif3"
      }
    },
    {
      "cell_type": "code",
      "source": [
        "triesFunc(general_mean_epocs, general_std_epocs,l_rate=0.1,num_hidden = 3, bypass=True)\n"
      ],
      "metadata": {
        "id": "IJ3w7NafjsYc"
      },
      "execution_count": null,
      "outputs": []
    },
    {
      "cell_type": "markdown",
      "source": [
        "#Test 11 - Rshut #2\n",
        "#Learning rate = 0.1 , Num hidden = 3, Bypass = False"
      ],
      "metadata": {
        "id": "xJpmdboVjxWe"
      }
    },
    {
      "cell_type": "code",
      "source": [
        "triesFunc(general_mean_epocs, general_std_epocs,l_rate=0.1,num_hidden = 3, bypass=False)\n"
      ],
      "metadata": {
        "id": "j4qv6SNoj1Dd"
      },
      "execution_count": null,
      "outputs": []
    },
    {
      "cell_type": "markdown",
      "source": [
        "#Test 12 - Rshut #3\n",
        "#Learning rate = 0.01 , Num hidden = 3, Bypass = True"
      ],
      "metadata": {
        "id": "LLSEP4rmj6oZ"
      }
    },
    {
      "cell_type": "code",
      "source": [
        "triesFunc(general_mean_epocs, general_std_epocs,l_rate=0.01,num_hidden = 3, bypass=True)\n"
      ],
      "metadata": {
        "id": "OFsTYp3jkCze"
      },
      "execution_count": null,
      "outputs": []
    },
    {
      "cell_type": "markdown",
      "source": [
        "#Test 13 - Rshut #4\n",
        "#Learning rate = 0.01 , Num hidden = 3, Bypass = False"
      ],
      "metadata": {
        "id": "3i4aGbU4kIXR"
      }
    },
    {
      "cell_type": "code",
      "source": [
        "triesFunc(general_mean_epocs, general_std_epocs,l_rate=0.01,num_hidden = 3, bypass=False)\n"
      ],
      "metadata": {
        "id": "snL7WvGykMFF"
      },
      "execution_count": null,
      "outputs": []
    }
  ]
}